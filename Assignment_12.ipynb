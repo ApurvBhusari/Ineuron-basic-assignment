{
 "cells": [
  {
   "cell_type": "code",
   "execution_count": null,
   "id": "d22d5ce5",
   "metadata": {},
   "outputs": [],
   "source": [
    "#1.In what modes should the PdfFileReader() and PdfFileWriter() File objects will be opened?\n",
    "\n",
    "\"The  files will be opened in binary mode., read binary (rb) for PdfFileREader() and write binary (wb) PdfFileWriter()"
   ]
  },
  {
   "cell_type": "code",
   "execution_count": null,
   "id": "296b6864",
   "metadata": {},
   "outputs": [],
   "source": [
    "#.From a PdfFileReader object, how do you get a Page object for page 5?\n",
    "\"Calling getPage(4) will return a Page object for page 5 since page 0 is the first page\""
   ]
  },
  {
   "cell_type": "code",
   "execution_count": null,
   "id": "350ba72e",
   "metadata": {},
   "outputs": [],
   "source": [
    "#1.What PdfFileReader variable stores the number of pages in the PDF document?\n",
    "import PyPDF2 as pdf\n",
    "pdfFileObj = open(\"cardealer.pdf\",'rb')\n",
    "pdfReader = pdf.PdfFileReader(pdfFileObj)\n",
    "pdfReader.numPages\n",
    "\n"
   ]
  },
  {
   "cell_type": "code",
   "execution_count": null,
   "id": "5948df32",
   "metadata": {},
   "outputs": [],
   "source": [
    "# If a PdfFileReader object’s PDF is encrypted with the password swordfish, what must you do before you can obtain Page objects from it?\n",
    "\". Before we obtain the page object, the pdf has to be decrypted by calling .decrypt('swordfish')\"\n"
   ]
  },
  {
   "cell_type": "code",
   "execution_count": null,
   "id": "5edd735e",
   "metadata": {},
   "outputs": [],
   "source": [
    "#What methods do you use to rotate a page?\n",
    "\"pageObj.rotateClockwise(180)\"\"\n",
    "\"The rotateClockwise() and rotateCounterClockwise() methods. The degrees to rotate is passed as an integer argument\"\n"
   ]
  },
  {
   "cell_type": "code",
   "execution_count": null,
   "id": "44cc3df8",
   "metadata": {},
   "outputs": [],
   "source": [
    "#6. What is the difference between a Run object and a Paragraph object?\n",
    "\"Paragraph Object : A document contains multiple paragraphs. A paragraph begins on a new line and contains multiple runs. The Document object contains a list of Paragraph objects for the paragraphs in the document. (A new paragraph begins whenever the user presses ENTER or RETURN while typing in a Word document.)\n",
    "\"Run Objects : Runs are contiguous groups of characters within a paragraph with the same style\"\n"
   ]
  },
  {
   "cell_type": "code",
   "execution_count": null,
   "id": "a3e08cea",
   "metadata": {},
   "outputs": [],
   "source": [
    "#7. How do you obtain a list of Paragraph objects for a Document object that’s stored in a variable named doc?\n",
    "#!pip install python-docx\n",
    "import docx\n",
    "doc = docx.Document('abc.docx')\n",
    "doc.paragraphs\n",
    "#By using doc.paragraphs\n"
   ]
  },
  {
   "cell_type": "code",
   "execution_count": null,
   "id": "b7a60b33",
   "metadata": {},
   "outputs": [],
   "source": [
    "#8. What type of object has bold, underline, italic, strike, and outline variables?\n",
    "\". A Run object has bold, underline,italic,strike and outline variables\"\n"
   ]
  },
  {
   "cell_type": "code",
   "execution_count": null,
   "id": "0f77867d",
   "metadata": {},
   "outputs": [],
   "source": [
    "#9. What is the difference between False, True, and None for the bold variable?\n",
    "\"Runs can be further styled using text attributes. Each attribute can be set to one of three values:\n",
    "True (the attribute is always enabled, no matter what other styles are applied to the run),\n",
    "False (the attribute is always disabled),\n",
    "None (defaults to whatever the run’s style is set to)\n",
    "\n",
    "True always makes the Run object bolded and False makes it always not bolded, no matter what the style’s bold setting is. None will make the Run object just use the style’s bold setting\"\n"
   ]
  },
  {
   "cell_type": "code",
   "execution_count": null,
   "id": "01726179",
   "metadata": {},
   "outputs": [],
   "source": [
    "#10. How do you create a Document object for a new Word document?\n",
    "\". By Calling the docx.Document() function.\"\n"
   ]
  },
  {
   "cell_type": "code",
   "execution_count": null,
   "id": "f6594aed",
   "metadata": {},
   "outputs": [],
   "source": [
    "#11. How do you add a paragraph with the text 'Hello, there!' to a Document object stored in a variable named doc?\n",
    "import docx\n",
    "doc = docx.Document()\n",
    "\n",
    "doc.add_paragraph('Hello there!')\n",
    "doc.save('hellothere.docx')\n"
   ]
  },
  {
   "cell_type": "code",
   "execution_count": null,
   "id": "b4db2208",
   "metadata": {},
   "outputs": [],
   "source": [
    "#12. What integers represent the levels of headings available in Word documents?\n",
    "\"integer from 0 to 4\n",
    "\"The arguments to add_heading() are a string of the heading text and an integer from 0 to 4. The integer 0 makes the heading the Title style, which is used for the top of the document. Integers 1 to 4 are for various heading levels, with 1 being the main heading and 4 the lowest subheading\""
   ]
  }
 ],
 "metadata": {
  "kernelspec": {
   "display_name": "Python 3 (ipykernel)",
   "language": "python",
   "name": "python3"
  },
  "language_info": {
   "codemirror_mode": {
    "name": "ipython",
    "version": 3
   },
   "file_extension": ".py",
   "mimetype": "text/x-python",
   "name": "python",
   "nbconvert_exporter": "python",
   "pygments_lexer": "ipython3",
   "version": "3.9.12"
  }
 },
 "nbformat": 4,
 "nbformat_minor": 5
}
